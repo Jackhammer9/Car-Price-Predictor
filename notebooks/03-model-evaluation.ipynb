{
 "cells": [
  {
   "cell_type": "markdown",
   "metadata": {},
   "source": [
    "<div align=\"center\" style=\"font-family: 'Consolas', monospace;\"><h1> Model Evaluation For Car Price Predictor </h1> </div>\n",
    "\n",
    "<p align = \"center\" style=\"font-family: 'Consolas', monospace;\"> The purpose of this notebook is to evaluate and compare model performance for the best model trained in model training notebook</p>"
   ]
  },
  {
   "cell_type": "markdown",
   "metadata": {},
   "source": [
    "<br><ul> <li style=\"font-family: 'Consolas', monospace;\">Load model and import libraries</li></ul>"
   ]
  },
  {
   "cell_type": "code",
   "execution_count": 30,
   "metadata": {},
   "outputs": [],
   "source": [
    "import joblib\n",
    "import pandas as pd\n",
    "import numpy as np\n",
    "import matplotlib.pyplot as plt\n",
    "import seaborn as sns\n",
    "from sklearn.metrics import mean_squared_error, r2_score, mean_absolute_error\n",
    "\n",
    "model = joblib.load('models/model.pkl')\n",
    "df = pd.read_csv('data/Cleaned_Car_Price_Data.csv') # Test Data\n",
    "\n",
    "# Features & target\n",
    "X = df.drop(columns=[\"price\"])\n",
    "y = df[\"price\"]\n",
    "\n",
    "y_pred = model.predict(X) # Predictions"
   ]
  },
  {
   "cell_type": "markdown",
   "metadata": {},
   "source": [
    "<ul> <li style=\"font-family: 'Consolas', monospace;\">Evaluate Model</li></ul>"
   ]
  },
  {
   "cell_type": "code",
   "execution_count": null,
   "metadata": {},
   "outputs": [],
   "source": [
    "def evaluate_model(y_true, y_pred):\n",
    "    print(\"Model Evaluation Metrics:\")\n",
    "    print(f\"MAE  (Mean Absolute Error): {mean_absolute_error(y_true, y_pred):.4f}\")\n",
    "    print(f\"MSE  (Mean Squared Error): {mean_squared_error(y_true, y_pred):.4f}\")\n",
    "    print(f\"RMSE (Root Mean Squared Error): {np.sqrt(mean_squared_error(y_true, y_pred)):.4f}\")\n",
    "    print(f\"R² Score: {r2_score(y_true, y_pred):.4f}\")\n",
    "\n",
    "evaluate_model(y, y_pred)"
   ]
  },
  {
   "cell_type": "markdown",
   "metadata": {},
   "source": [
    "<ul> <li style=\"font-family: 'Consolas', monospace;\">Plot Prediction v Actual Value</li></ul>"
   ]
  },
  {
   "cell_type": "code",
   "execution_count": null,
   "metadata": {},
   "outputs": [],
   "source": [
    "plt.figure(figsize=(8, 6))\n",
    "sns.scatterplot(x=y, y=y_pred, alpha=0.6)\n",
    "plt.plot([y.min(), y.max()], [y.min(), y.max()], \"--\", color=\"red\")  # Ideal line\n",
    "plt.xlabel(\"Actual Prices\")\n",
    "plt.ylabel(\"Predicted Prices\")\n",
    "plt.title(\"Actual vs. Predicted Car Prices\")\n",
    "plt.show()"
   ]
  },
  {
   "cell_type": "markdown",
   "metadata": {},
   "source": [
    "<ul> <li style=\"font-family: 'Consolas', monospace;\">Residual Plot</li></ul>"
   ]
  },
  {
   "cell_type": "code",
   "execution_count": null,
   "metadata": {},
   "outputs": [],
   "source": [
    "residuals = y - y_pred\n",
    "\n",
    "plt.figure(figsize=(8, 6))\n",
    "sns.scatterplot(x=y_pred, y=residuals, alpha=0.6)\n",
    "plt.axhline(y=0, color=\"red\", linestyle=\"--\")\n",
    "plt.xlabel(\"Predicted Price\")\n",
    "plt.ylabel(\"Residuals\")\n",
    "plt.title(\"Residual Plot\")\n",
    "plt.show()"
   ]
  },
  {
   "cell_type": "markdown",
   "metadata": {},
   "source": [
    "<ul> <li style=\"font-family: 'Consolas', monospace;\">Save Evaluation</li></ul>"
   ]
  },
  {
   "cell_type": "code",
   "execution_count": null,
   "metadata": {},
   "outputs": [],
   "source": [
    "results = {\n",
    "    \"MAE\": mean_absolute_error(y, y_pred),\n",
    "    \"MSE\": mean_squared_error(y, y_pred),\n",
    "    \"RMSE\": np.sqrt(mean_squared_error(y, y_pred)),\n",
    "    \"R2 Score\": r2_score(y, y_pred)\n",
    "}\n",
    "\n",
    "results_df = pd.DataFrame([results])\n",
    "results_df.to_csv(\"data/model_evaluation_results.csv\", index=False)\n",
    "print(\"Evaluation results saved!\")"
   ]
  }
 ],
 "metadata": {
  "kernelspec": {
   "display_name": "Python 3 (ipykernel)",
   "language": "python",
   "name": "python3"
  },
  "language_info": {
   "codemirror_mode": {
    "name": "ipython",
    "version": 3
   },
   "file_extension": ".py",
   "mimetype": "text/x-python",
   "name": "python",
   "nbconvert_exporter": "python",
   "pygments_lexer": "ipython3",
   "version": "3.12.0"
  }
 },
 "nbformat": 4,
 "nbformat_minor": 2
}
