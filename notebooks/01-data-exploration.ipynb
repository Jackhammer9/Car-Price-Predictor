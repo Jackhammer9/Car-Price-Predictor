{
 "cells": [
  {
   "cell_type": "markdown",
   "metadata": {},
   "source": [
    "<div align=\"center\" style=\"font-family: 'Consolas', monospace;\"><h1> Data Exploration For Car Price Predictor </h1> </div>\n",
    "\n",
    "<p align = \"center\" style=\"font-family: 'Consolas', monospace;\"> The purpose of this notebook is to perform an initial exploratory data analysis (EDA) on the dataset for car price prediction. I will clean, visualize, and understand the data before building a predictive model.</p>"
   ]
  },
  {
   "cell_type": "markdown",
   "metadata": {},
   "source": [
    "<br><ul> <li style=\"font-family: 'Consolas', monospace;\">Importing Necessary Libraries</li></ul>"
   ]
  },
  {
   "cell_type": "code",
   "execution_count": 69,
   "metadata": {},
   "outputs": [],
   "source": [
    "import numpy as np\n",
    "import pandas as pd\n",
    "import matplotlib.pyplot as plt\n",
    "import seaborn as sns"
   ]
  },
  {
   "cell_type": "markdown",
   "metadata": {},
   "source": [
    "<ul><li style=\"font-family: 'Consolas', monospace;\"> Loading The Dataset </li></ul>"
   ]
  },
  {
   "cell_type": "code",
   "execution_count": null,
   "metadata": {},
   "outputs": [],
   "source": [
    "df = pd.read_csv('Data/Car_Price_Data.csv')\n",
    "print(df.head())"
   ]
  },
  {
   "cell_type": "markdown",
   "metadata": {},
   "source": [
    "<ul><li style=\"font-family: 'Consolas', monospace;\"> Basic Information About Dataset </li></ul>"
   ]
  },
  {
   "cell_type": "code",
   "execution_count": null,
   "metadata": {},
   "outputs": [],
   "source": [
    "print(f\"Dataset Shape: {df.shape}\")\n",
    "df.info()\n",
    "df.describe()"
   ]
  },
  {
   "cell_type": "markdown",
   "metadata": {},
   "source": [
    "<ul><li style=\"font-family: 'Consolas', monospace;\"> Check for missing values </li></ul>"
   ]
  },
  {
   "cell_type": "code",
   "execution_count": null,
   "metadata": {},
   "outputs": [],
   "source": [
    "print (\"Missing Values :\\n\", df.isnull().sum().values.sum())"
   ]
  },
  {
   "cell_type": "markdown",
   "metadata": {},
   "source": [
    "<p style=\"font-family: 'Consolas', monospace;\"> No missing values found</p>\n",
    "<ul><li style=\"font-family: 'Consolas', monospace;\"> Data Cleaning </li></ul>"
   ]
  },
  {
   "cell_type": "code",
   "execution_count": 73,
   "metadata": {},
   "outputs": [],
   "source": [
    "# String Standarization\n",
    "df['CarName'] = df['CarName'].str.lower().str.strip()\n",
    "df['fueltype'] = df['fueltype'].str.lower().str.strip()\n",
    "df['aspiration'] = df['aspiration'].str.lower().str.strip()\n",
    "df['doornumber'] = df['doornumber'].str.lower().str.strip()\n",
    "df['carbody'] = df['carbody'].str.lower().str.strip()\n",
    "df['drivewheel'] = df['drivewheel'].str.lower().str.strip()\n",
    "df['enginelocation'] = df['enginelocation'].str.lower().str.strip()\n",
    "df['fuelsystem'] = df['fuelsystem'].str.lower().str.strip()\n",
    "df['enginetype'] = df['enginetype'].str.lower().str.strip()\n",
    "df['cylindernumber'] = df['cylindernumber'].str.lower().str.strip()\n",
    "df['doornumber'] = df['doornumber'].str.lower().str.strip()"
   ]
  },
  {
   "cell_type": "markdown",
   "metadata": {},
   "source": [
    "\n",
    "<ul><li style=\"font-family: 'Consolas', monospace;\"> Data Distribution </li></ul>"
   ]
  },
  {
   "cell_type": "code",
   "execution_count": null,
   "metadata": {},
   "outputs": [],
   "source": [
    "df.hist(figsize=(24, 16), bins=30)\n",
    "plt.show()"
   ]
  },
  {
   "cell_type": "code",
   "execution_count": null,
   "metadata": {},
   "outputs": [],
   "source": [
    "# Create a 3x3 grid of subplots\n",
    "fig, axes = plt.subplots(4, 3, figsize=(24, 16))\n",
    "\n",
    "# List of categorical columns\n",
    "categorical_columns = [\"fueltype\", \"carbody\", \"doornumber\", \"drivewheel\", \n",
    "                       \"enginelocation\", \"enginetype\", \"fuelsystem\", \"aspiration\", \"CarName\",\n",
    "                       \"cylindernumber\" , \"doornumber\"]\n",
    "\n",
    "# Flatten the 2D axes array to easily loop through it\n",
    "axes = axes.flatten()\n",
    "\n",
    "# Plot countplots for each categorical feature\n",
    "for i, col in enumerate(categorical_columns):\n",
    "    sns.countplot(y=df[col], ax=axes[i])\n",
    "    axes[i].set_title(f\"{col} Distribution\")\n",
    "    axes[i].tick_params(axis='y', labelsize=12)  # Adjust label size for readability\n",
    "\n",
    "# Adjust layout\n",
    "plt.tight_layout()\n",
    "plt.show()"
   ]
  },
  {
   "cell_type": "markdown",
   "metadata": {},
   "source": [
    "\n",
    "<ul><li style=\"font-family: 'Consolas', monospace;\"> Dropping Ineffective Datacolumns </li></ul>\n",
    "<p style=\"font-family: 'Consolas', monospace;\">car_ID: IDs of car does not add any learning value to the data</p>\n",
    "<p style=\"font-family: 'Consolas', monospace;\">carName: Name of cars also does not add any learning value to the set</p>\n",
    "<p style=\"font-family: 'Consolas', monospace;\">enginelocation: extremly low variance, does not add learning value</p>"
   ]
  },
  {
   "cell_type": "code",
   "execution_count": 76,
   "metadata": {},
   "outputs": [],
   "source": [
    "df.drop(columns=[\"car_ID\", \"CarName\" , \"enginelocation\"], inplace=True)"
   ]
  },
  {
   "cell_type": "markdown",
   "metadata": {},
   "source": [
    "\n",
    "<ul><li style=\"font-family: 'Consolas', monospace;\"> Save Cleaned Dataset </li></ul>"
   ]
  },
  {
   "cell_type": "code",
   "execution_count": null,
   "metadata": {},
   "outputs": [],
   "source": [
    "df.to_csv(\"data/Cleaned_Car_Price_Data.csv\", index=False)\n",
    "print(\"Cleaned dataset saved.\")"
   ]
  }
 ],
 "metadata": {
  "kernelspec": {
   "display_name": "Python 3 (ipykernel)",
   "language": "python",
   "name": "python3"
  },
  "language_info": {
   "codemirror_mode": {
    "name": "ipython",
    "version": 3
   },
   "file_extension": ".py",
   "mimetype": "text/x-python",
   "name": "python",
   "nbconvert_exporter": "python",
   "pygments_lexer": "ipython3",
   "version": "3.12.0"
  }
 },
 "nbformat": 4,
 "nbformat_minor": 2
}
