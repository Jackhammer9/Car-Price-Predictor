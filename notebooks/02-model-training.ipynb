{
 "cells": [
  {
   "cell_type": "markdown",
   "metadata": {},
   "source": [
    "<div align=\"center\" style=\"font-family: 'Consolas', monospace;\"><h1> Model Training For Car Price Predictor </h1> </div>\n",
    "\n",
    "<p align = \"center\" style=\"font-family: 'Consolas', monospace;\"> The purpose of this notebook is to train a suitiable regression model, i will regularize the data, apply scaling and build a pipeline and finally find the best model</p>"
   ]
  },
  {
   "cell_type": "markdown",
   "metadata": {},
   "source": [
    "<br><ul> <li style=\"font-family: 'Consolas', monospace;\">Importing Necessary Libraries</li></ul>"
   ]
  },
  {
   "cell_type": "code",
   "execution_count": 6,
   "metadata": {},
   "outputs": [],
   "source": [
    "import numpy as np\n",
    "import pandas as pd\n",
    "import matplotlib.pyplot as plt\n",
    "import seaborn as sns\n",
    "from sklearn.preprocessing import OneHotEncoder, QuantileTransformer, StandardScaler, OrdinalEncoder\n",
    "from sklearn.compose import ColumnTransformer\n",
    "from sklearn.pipeline import Pipeline\n",
    "from sklearn.linear_model import LinearRegression, Ridge, Lasso, ElasticNet\n",
    "from sklearn.ensemble import RandomForestRegressor, GradientBoostingRegressor\n",
    "from sklearn.svm import SVR, LinearSVR\n",
    "from sklearn.neighbors import KNeighborsRegressor\n",
    "from sklearn.model_selection import GridSearchCV"
   ]
  },
  {
   "cell_type": "markdown",
   "metadata": {},
   "source": [
    "<ul> <li style=\"font-family: 'Consolas', monospace;\">Loading and Preparing Data</li></ul>"
   ]
  },
  {
   "cell_type": "code",
   "execution_count": 7,
   "metadata": {},
   "outputs": [],
   "source": [
    "df = pd.read_csv('data/Cleaned_Test_Set.csv')\n",
    "df.head()\n",
    "\n",
    "X = df.drop('price', axis=1)\n",
    "y = df['price']"
   ]
  },
  {
   "cell_type": "markdown",
   "metadata": {},
   "source": [
    "<ul> <li style=\"font-family: 'Consolas', monospace;\">Build Pipeline</li></ul>"
   ]
  },
  {
   "cell_type": "code",
   "execution_count": 8,
   "metadata": {},
   "outputs": [],
   "source": [
    "#Defining Variables\n",
    "categories = ['fueltype', 'aspiration', 'doornumber', 'carbody', 'drivewheel',\n",
    "               'enginetype', 'fuelsystem', 'cylindernumber','doornumber',\n",
    "               'Company']\n",
    "numericals = [col for col in X.columns if col not in categories]\n",
    "\n",
    "#preprocessing pipeline\n",
    "preprocessor = ColumnTransformer(\n",
    "    transformers=[\n",
    "        ('num', StandardScaler(), numericals),\n",
    "        ('cat', OneHotEncoder(handle_unknown='ignore', sparse_output=False), categories)\n",
    "    ])\n",
    "\n",
    "#building ML pipeline\n",
    "pipeline = Pipeline(steps=[\n",
    "    ('preprocessor', preprocessor),\n",
    "    ('regressor', LinearRegression())\n",
    "    ])"
   ]
  },
  {
   "cell_type": "markdown",
   "metadata": {},
   "source": [
    "<ul> <li style=\"font-family: 'Consolas', monospace;\">Training Using GridSearch (Multiple Algorithims)</li></ul>"
   ]
  },
  {
   "cell_type": "code",
   "execution_count": null,
   "metadata": {},
   "outputs": [],
   "source": [
    "param_grid = [\n",
    "    \n",
    "    # ElasticNet (Hybrid Lasso & Ridge)\n",
    "    {\n",
    "        \"regressor\": [ElasticNet(random_state=42)],\n",
    "        \"regressor__alpha\": np.logspace(-3, 3, 13),  # Regularization strength\n",
    "        \"regressor__l1_ratio\": [0.1, 0.5, 0.9]  # Balance between L1 (Lasso) & L2 (Ridge)\n",
    "    },\n",
    "    \n",
    "    # Random Forest Regressor\n",
    "    {\n",
    "        \"regressor\": [RandomForestRegressor(random_state=42)],\n",
    "        \"regressor__n_estimators\": [50, 100, 200],  # Number of trees\n",
    "        \"regressor__max_depth\": [None, 10, 20],  # Maximum depth of trees\n",
    "        \"regressor__min_samples_split\": [2, 5, 10]  # Minimum samples to split a node\n",
    "    },\n",
    "    \n",
    "    # Gradient Boosting Regressor\n",
    "    {\n",
    "        \"regressor\": [GradientBoostingRegressor(random_state=42)],\n",
    "        \"regressor__n_estimators\": [50, 100, 200],  # Number of boosting stages\n",
    "        \"regressor__learning_rate\": [0.01, 0.1, 0.2],  # Shrinkage factor\n",
    "        \"regressor__max_depth\": [3, 5, 10]  # Tree depth\n",
    "    },\n",
    "    \n",
    "    # Support Vector Regression (SVR) - Non-linear Regression\n",
    "    {\n",
    "        \"regressor\": [SVR()],\n",
    "        \"regressor__kernel\": [\"linear\", \"rbf\"],  # Linear for simple, RBF for non-linear\n",
    "        \"regressor__C\": np.logspace(-2, 2, 5),  # Regularization parameter\n",
    "        \"regressor__epsilon\": [0.01, 0.1, 0.5]  # Tolerance for error\n",
    "    },\n",
    "    \n",
    "    # Linear SVR (Linear Version of SVR)\n",
    "    {\n",
    "        \"regressor\": [LinearSVR(max_iter=10000)],\n",
    "        \"regressor__C\": np.logspace(-2, 2, 5),  # Regularization parameter\n",
    "        \"regressor__epsilon\": [0.01, 0.1, 0.5]  # Tolerance for error\n",
    "    },\n",
    "    \n",
    "    # K-Nearest Neighbors Regressor (KNN)\n",
    "    {\n",
    "        \"regressor\": [KNeighborsRegressor()],\n",
    "        \"regressor__n_neighbors\": [3, 5, 10],  # Number of neighbors\n",
    "        \"regressor__weights\": [\"uniform\", \"distance\"],  # Distance-based weighting\n",
    "        \"regressor__p\": [1, 2]  # 1 = Manhattan (L1), 2 = Euclidean (L2)\n",
    "    },\n",
    "    {\n",
    "        'regressor' : [Ridge()],\n",
    "        'regressor__alpha': np.logspace(-5, 5, 13) # Apha from 10^-5 to 10^5\n",
    "    },\n",
    "    {\n",
    "        'regressor' : [Lasso()],\n",
    "        'regressor__alpha': np.logspace(-5, 5, 13) # Apha from 10^-5 to 10^5\n",
    "    }\n",
    "]\n",
    "\n",
    "model = GridSearchCV (pipeline,\n",
    "                      param_grid,\n",
    "                      cv=7,\n",
    "                      n_jobs=-1)\n",
    "\n",
    "model.fit(X, y)"
   ]
  },
  {
   "cell_type": "markdown",
   "metadata": {},
   "source": [
    "<ul> <li style=\"font-family: 'Consolas', monospace;\">Saving the best model</li></ul>"
   ]
  },
  {
   "cell_type": "code",
   "execution_count": null,
   "metadata": {},
   "outputs": [],
   "source": [
    "import joblib\n",
    "\n",
    "# Save the best model from GridSearchCV\n",
    "joblib.dump(model.best_estimator_, \"models/model.pkl\")\n",
    "print(\"Model saved successfully!\")"
   ]
  }
 ],
 "metadata": {
  "kernelspec": {
   "display_name": "Python 3 (ipykernel)",
   "language": "python",
   "name": "python3"
  },
  "language_info": {
   "codemirror_mode": {
    "name": "ipython",
    "version": 3
   },
   "file_extension": ".py",
   "mimetype": "text/x-python",
   "name": "python",
   "nbconvert_exporter": "python",
   "pygments_lexer": "ipython3",
   "version": "3.12.0"
  }
 },
 "nbformat": 4,
 "nbformat_minor": 2
}
