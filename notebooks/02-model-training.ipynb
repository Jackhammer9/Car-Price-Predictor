{
 "cells": [
  {
   "cell_type": "markdown",
   "metadata": {},
   "source": [
    "<div align=\"center\" style=\"font-family: 'Consolas', monospace;\"><h1> Model Training For Car Price Predictor </h1> </div>\n",
    "\n",
    "<p align = \"center\" style=\"font-family: 'Consolas', monospace;\"> The purpose of this notebook is to train a suitiable regression model, i will regularize the data, apply scaling and build a pipeline and finally find the best model</p>"
   ]
  },
  {
   "cell_type": "markdown",
   "metadata": {},
   "source": [
    "<br><ul> <li style=\"font-family: 'Consolas', monospace;\">Importing Necessary Libraries</li></ul>"
   ]
  },
  {
   "cell_type": "code",
   "execution_count": 17,
   "metadata": {},
   "outputs": [],
   "source": [
    "import numpy as np\n",
    "import pandas as pd\n",
    "import matplotlib.pyplot as plt\n",
    "import seaborn as sns\n",
    "from sklearn.preprocessing import OneHotEncoder, QuantileTransformer\n",
    "from sklearn.compose import ColumnTransformer\n",
    "from sklearn.pipeline import Pipeline\n",
    "from sklearn.linear_model import LinearRegression, Ridge, Lasso\n",
    "from sklearn.model_selection import GridSearchCV"
   ]
  },
  {
   "cell_type": "markdown",
   "metadata": {},
   "source": [
    "<ul> <li style=\"font-family: 'Consolas', monospace;\">Loading and Preparing Data</li></ul>"
   ]
  },
  {
   "cell_type": "code",
   "execution_count": 18,
   "metadata": {},
   "outputs": [],
   "source": [
    "df = pd.read_csv('data/Cleaned_Car_Price_Data.csv')\n",
    "df.head()\n",
    "\n",
    "X = df.drop('price', axis=1)\n",
    "y = df['price']"
   ]
  },
  {
   "cell_type": "markdown",
   "metadata": {},
   "source": [
    "<ul> <li style=\"font-family: 'Consolas', monospace;\">Build Pipeline</li></ul>"
   ]
  },
  {
   "cell_type": "code",
   "execution_count": 19,
   "metadata": {},
   "outputs": [],
   "source": [
    "#Defining Variables\n",
    "categories = ['fueltype', 'aspiration', 'doornumber', 'carbody', 'drivewheel', 'enginetype', 'fuelsystem', 'cylindernumber','doornumber']\n",
    "numericals = [col for col in X.columns if col not in categories]\n",
    "\n",
    "#preprocessing pipeline\n",
    "preprocessor = ColumnTransformer(\n",
    "    transformers=[\n",
    "        ('num', QuantileTransformer(n_quantiles=200), numericals),\n",
    "        ('cat', OneHotEncoder(handle_unknown='ignore', sparse_output=False), categories)\n",
    "    ])\n",
    "\n",
    "#building ML pipeline\n",
    "pipeline = Pipeline(steps=[\n",
    "    ('preprocessor', preprocessor),\n",
    "    ('regressor', LinearRegression())\n",
    "    ])"
   ]
  },
  {
   "cell_type": "markdown",
   "metadata": {},
   "source": [
    "<ul> <li style=\"font-family: 'Consolas', monospace;\">Training Using GridSearch</li></ul>"
   ]
  },
  {
   "cell_type": "code",
   "execution_count": 20,
   "metadata": {},
   "outputs": [
    {
     "name": "stdout",
     "output_type": "stream",
     "text": [
      "Best parameters: {'regressor': Lasso(), 'regressor__alpha': 1000.0}\n"
     ]
    }
   ],
   "source": [
    "model = GridSearchCV (pipeline,\n",
    "                      param_grid=[\n",
    "                          {\n",
    "                              'regressor' : [Ridge()],\n",
    "                           'regressor__alpha': np.logspace(-3, 3, 13)\n",
    "                           },\n",
    "                          {\n",
    "                              'regressor' : [Lasso()],\n",
    "                           'regressor__alpha': np.logspace(-3, 3, 13)\n",
    "                           }\n",
    "                      ],\n",
    "                      cv=7,\n",
    "                      n_jobs=-1)\n",
    "\n",
    "model.fit(X, y)\n",
    "print(\"Best parameters:\", model.best_params_)"
   ]
  }
 ],
 "metadata": {
  "kernelspec": {
   "display_name": "Python 3 (ipykernel)",
   "language": "python",
   "name": "python3"
  },
  "language_info": {
   "codemirror_mode": {
    "name": "ipython",
    "version": 3
   },
   "file_extension": ".py",
   "mimetype": "text/x-python",
   "name": "python",
   "nbconvert_exporter": "python",
   "pygments_lexer": "ipython3",
   "version": "3.12.0"
  }
 },
 "nbformat": 4,
 "nbformat_minor": 2
}
